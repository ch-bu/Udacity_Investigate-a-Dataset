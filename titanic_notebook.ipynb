{
 "cells": [
  {
   "cell_type": "markdown",
   "metadata": {},
   "source": [
    "# Udacity Investigate a Dataset"
   ]
  },
  {
   "cell_type": "markdown",
   "metadata": {},
   "source": [
    "The project is part of the [Data Analysis Nanodegree](https://www.udacity.com/course/data-analyst-nanodegree--nd002) provided by Udacity. Within this project I will analyze the [Kaggle Titanic Dataset](https://www.kaggle.com/c/titanic). The dataset provides data from 891 passengers of the titanic. Within the analysis I will pose some questions about the dataset. I will try to descriptively and thorougly answer these questions. "
   ]
  },
  {
   "cell_type": "markdown",
   "metadata": {},
   "source": [
    "## Import Libraries"
   ]
  },
  {
   "cell_type": "code",
   "execution_count": 74,
   "metadata": {
    "collapsed": false
   },
   "outputs": [],
   "source": [
    "%matplotlib inline\n",
    "import pandas as pd\n",
    "import numpy as np\n",
    "import matplotlib.pyplot as plt\n",
    "from statsmodels.graphics.mosaicplot import mosaic"
   ]
  },
  {
   "cell_type": "markdown",
   "metadata": {},
   "source": [
    "## Read Dataset"
   ]
  },
  {
   "cell_type": "code",
   "execution_count": 75,
   "metadata": {
    "collapsed": false
   },
   "outputs": [],
   "source": [
    "titanic_df = pd.read_csv('data/titanic_dataset.csv')"
   ]
  },
  {
   "cell_type": "markdown",
   "metadata": {},
   "source": [
    "## Glimpse into Dataset"
   ]
  },
  {
   "cell_type": "code",
   "execution_count": 76,
   "metadata": {
    "collapsed": false
   },
   "outputs": [
    {
     "data": {
      "text/html": [
       "<div>\n",
       "<table border=\"1\" class=\"dataframe\">\n",
       "  <thead>\n",
       "    <tr style=\"text-align: right;\">\n",
       "      <th></th>\n",
       "      <th>PassengerId</th>\n",
       "      <th>Survived</th>\n",
       "      <th>Pclass</th>\n",
       "      <th>Name</th>\n",
       "      <th>Sex</th>\n",
       "      <th>Age</th>\n",
       "      <th>SibSp</th>\n",
       "      <th>Parch</th>\n",
       "      <th>Ticket</th>\n",
       "      <th>Fare</th>\n",
       "      <th>Cabin</th>\n",
       "      <th>Embarked</th>\n",
       "    </tr>\n",
       "  </thead>\n",
       "  <tbody>\n",
       "    <tr>\n",
       "      <th>0</th>\n",
       "      <td>1</td>\n",
       "      <td>0</td>\n",
       "      <td>3</td>\n",
       "      <td>Braund, Mr. Owen Harris</td>\n",
       "      <td>male</td>\n",
       "      <td>22.0</td>\n",
       "      <td>1</td>\n",
       "      <td>0</td>\n",
       "      <td>A/5 21171</td>\n",
       "      <td>7.2500</td>\n",
       "      <td>NaN</td>\n",
       "      <td>S</td>\n",
       "    </tr>\n",
       "    <tr>\n",
       "      <th>1</th>\n",
       "      <td>2</td>\n",
       "      <td>1</td>\n",
       "      <td>1</td>\n",
       "      <td>Cumings, Mrs. John Bradley (Florence Briggs Th...</td>\n",
       "      <td>female</td>\n",
       "      <td>38.0</td>\n",
       "      <td>1</td>\n",
       "      <td>0</td>\n",
       "      <td>PC 17599</td>\n",
       "      <td>71.2833</td>\n",
       "      <td>C85</td>\n",
       "      <td>C</td>\n",
       "    </tr>\n",
       "    <tr>\n",
       "      <th>2</th>\n",
       "      <td>3</td>\n",
       "      <td>1</td>\n",
       "      <td>3</td>\n",
       "      <td>Heikkinen, Miss. Laina</td>\n",
       "      <td>female</td>\n",
       "      <td>26.0</td>\n",
       "      <td>0</td>\n",
       "      <td>0</td>\n",
       "      <td>STON/O2. 3101282</td>\n",
       "      <td>7.9250</td>\n",
       "      <td>NaN</td>\n",
       "      <td>S</td>\n",
       "    </tr>\n",
       "  </tbody>\n",
       "</table>\n",
       "</div>"
      ],
      "text/plain": [
       "   PassengerId  Survived  Pclass  \\\n",
       "0            1         0       3   \n",
       "1            2         1       1   \n",
       "2            3         1       3   \n",
       "\n",
       "                                                Name     Sex   Age  SibSp  \\\n",
       "0                            Braund, Mr. Owen Harris    male  22.0      1   \n",
       "1  Cumings, Mrs. John Bradley (Florence Briggs Th...  female  38.0      1   \n",
       "2                             Heikkinen, Miss. Laina  female  26.0      0   \n",
       "\n",
       "   Parch            Ticket     Fare Cabin Embarked  \n",
       "0      0         A/5 21171   7.2500   NaN        S  \n",
       "1      0          PC 17599  71.2833   C85        C  \n",
       "2      0  STON/O2. 3101282   7.9250   NaN        S  "
      ]
     },
     "execution_count": 76,
     "metadata": {},
     "output_type": "execute_result"
    }
   ],
   "source": [
    "titanic_df.head(n=3)"
   ]
  },
  {
   "cell_type": "code",
   "execution_count": 77,
   "metadata": {
    "collapsed": false
   },
   "outputs": [
    {
     "data": {
      "text/plain": [
       "(891, 12)"
      ]
     },
     "execution_count": 77,
     "metadata": {},
     "output_type": "execute_result"
    }
   ],
   "source": [
    "titanic_df.shape"
   ]
  },
  {
   "cell_type": "markdown",
   "metadata": {},
   "source": [
    "Each row in the dataset represents a passenger. In total there are 891 rows and 12 columns. "
   ]
  },
  {
   "cell_type": "code",
   "execution_count": 78,
   "metadata": {
    "collapsed": false
   },
   "outputs": [
    {
     "data": {
      "text/plain": [
       "PassengerId      int64\n",
       "Survived         int64\n",
       "Pclass           int64\n",
       "Name            object\n",
       "Sex             object\n",
       "Age            float64\n",
       "SibSp            int64\n",
       "Parch            int64\n",
       "Ticket          object\n",
       "Fare           float64\n",
       "Cabin           object\n",
       "Embarked        object\n",
       "dtype: object"
      ]
     },
     "execution_count": 78,
     "metadata": {},
     "output_type": "execute_result"
    }
   ],
   "source": [
    "titanic_df.dtypes"
   ]
  },
  {
   "cell_type": "markdown",
   "metadata": {},
   "source": [
    "Overall there are 3 datatypes within the dataframe: int64, object, and float64. For this analysis I am particularly interested in the following features: **Survived**, **Pclass**, **Sex**, **Parch**, **Age**, and **SibSp**. A full description of the variables can be found on [Kaggle](https://www.kaggle.com/c/titanic/data). My dependent variable throughout the analysis will be **Survival**. The other features serve as independent variables."
   ]
  },
  {
   "cell_type": "markdown",
   "metadata": {},
   "source": [
    "## Questions"
   ]
  },
  {
   "cell_type": "markdown",
   "metadata": {},
   "source": [
    "For every catastrophe the most important questions concern the **passengers**. Who were they? Who did survive, who did not? Was a specific group especialy lucky? The passengers on board the titanic could book rooms in three different **classes** (1st, 2nd, 3rd). Passengers in the third class might have been at a disadvantage because they were located deep whitin the titanic:\n",
    "\n",
    "![Titanic classes](http://img07.deviantart.net/af19/i/2014/307/c/f/r_m_s__titanic_class_system_by_monroegerman-d787jna.png \"http://img07.deviantart.net/af19/i/2014/307/c/f/r_m_s__titanic_class_system_by_monroegerman-d787jna.png\")\n",
    "\n",
    "(1) It might be that fewer of these passengers survived than of first class passengers. My first question therefore would be: **What was the difference in survival rates among the passengers of the three classes?**\n",
    "\n",
    "(2) A classic routine in catastrophies is **women and children first**. Could it be that more women survived than men? Even though women might had the advantage of a first serve it is not to say that they had to look for their children. My second question therefore is: **Did more women survive the catastrophe and were women without children and parents at an advantage?**. For this question I only have the feature **patch** which includes parents and children. That is why I have to include parents in the analysis.\n",
    "\n",
    "(3) Many catastrophies are accompanied by a hectic atmosphere. People fight for their lives and try everything to get to the last liveboat. Everyone knows that the Titanic did not have enough liveboats. I am wondering if the young and healthy passengers could easier escape death than the elderly and frail because they fought themselves into the liveboats? What about the siblings of these people? It might again be that people with spouses and siblings had to look for their loved ones and were at a disadvantage? Or might it be that people with siblings and spouses could better support themselves in the ice-cold water? Therefore, my third question will be: **What was the difference in survival rates among the young and the elderly relative to their number of siblings and spouses?**\n",
    "\n",
    "I will try to answer these questions one by one and try to integrate other features when necessary. "
   ]
  },
  {
   "cell_type": "markdown",
   "metadata": {},
   "source": [
    "## What was the difference in survival rates among the passengers of the three classes?"
   ]
  },
  {
   "cell_type": "code",
   "execution_count": 79,
   "metadata": {
    "collapsed": false,
    "scrolled": true
   },
   "outputs": [
    {
     "data": {
      "text/plain": [
       "Pclass\n",
       "1    136\n",
       "2     87\n",
       "3    119\n",
       "Name: Survived, dtype: int64"
      ]
     },
     "execution_count": 79,
     "metadata": {},
     "output_type": "execute_result"
    }
   ],
   "source": [
    "grouped_classes = titanic_df.groupby('Pclass')\n",
    "grouped_classes['Survived'].sum()"
   ]
  },
  {
   "cell_type": "markdown",
   "metadata": {},
   "source": [
    "Overall 136 first class passengers, 87 second class passengers, and 119 third class passengers survived. It seems as though passengers from the third class were more likely to survive. We have not calcuated the survival rate relative to the number of passengers, though."
   ]
  },
  {
   "cell_type": "code",
   "execution_count": 80,
   "metadata": {
    "collapsed": false,
    "scrolled": true
   },
   "outputs": [
    {
     "data": {
      "text/html": [
       "<div>\n",
       "<table border=\"1\" class=\"dataframe\">\n",
       "  <thead>\n",
       "    <tr style=\"text-align: right;\">\n",
       "      <th></th>\n",
       "      <th>sum</th>\n",
       "      <th>count</th>\n",
       "    </tr>\n",
       "    <tr>\n",
       "      <th>Pclass</th>\n",
       "      <th></th>\n",
       "      <th></th>\n",
       "    </tr>\n",
       "  </thead>\n",
       "  <tbody>\n",
       "    <tr>\n",
       "      <th>1</th>\n",
       "      <td>136</td>\n",
       "      <td>216</td>\n",
       "    </tr>\n",
       "    <tr>\n",
       "      <th>2</th>\n",
       "      <td>87</td>\n",
       "      <td>184</td>\n",
       "    </tr>\n",
       "    <tr>\n",
       "      <th>3</th>\n",
       "      <td>119</td>\n",
       "      <td>491</td>\n",
       "    </tr>\n",
       "  </tbody>\n",
       "</table>\n",
       "</div>"
      ],
      "text/plain": [
       "        sum  count\n",
       "Pclass            \n",
       "1       136    216\n",
       "2        87    184\n",
       "3       119    491"
      ]
     },
     "execution_count": 80,
     "metadata": {},
     "output_type": "execute_result"
    }
   ],
   "source": [
    "grouped_classes_count_sum = grouped_classes['Survived'].agg(['sum', 'count'])\n",
    "grouped_classes_count_sum"
   ]
  },
  {
   "cell_type": "markdown",
   "metadata": {},
   "source": [
    "Let us see how many of these passengers in the different classes survived in percent."
   ]
  },
  {
   "cell_type": "code",
   "execution_count": 81,
   "metadata": {
    "collapsed": false
   },
   "outputs": [
    {
     "data": {
      "text/html": [
       "<div>\n",
       "<table border=\"1\" class=\"dataframe\">\n",
       "  <thead>\n",
       "    <tr style=\"text-align: right;\">\n",
       "      <th></th>\n",
       "      <th>sum</th>\n",
       "      <th>count</th>\n",
       "      <th>perc_survivors</th>\n",
       "    </tr>\n",
       "    <tr>\n",
       "      <th>Pclass</th>\n",
       "      <th></th>\n",
       "      <th></th>\n",
       "      <th></th>\n",
       "    </tr>\n",
       "  </thead>\n",
       "  <tbody>\n",
       "    <tr>\n",
       "      <th>1</th>\n",
       "      <td>136</td>\n",
       "      <td>216</td>\n",
       "      <td>0.629630</td>\n",
       "    </tr>\n",
       "    <tr>\n",
       "      <th>2</th>\n",
       "      <td>87</td>\n",
       "      <td>184</td>\n",
       "      <td>0.472826</td>\n",
       "    </tr>\n",
       "    <tr>\n",
       "      <th>3</th>\n",
       "      <td>119</td>\n",
       "      <td>491</td>\n",
       "      <td>0.242363</td>\n",
       "    </tr>\n",
       "  </tbody>\n",
       "</table>\n",
       "</div>"
      ],
      "text/plain": [
       "        sum  count  perc_survivors\n",
       "Pclass                            \n",
       "1       136    216        0.629630\n",
       "2        87    184        0.472826\n",
       "3       119    491        0.242363"
      ]
     },
     "execution_count": 81,
     "metadata": {},
     "output_type": "execute_result"
    }
   ],
   "source": [
    "class_survivors = grouped_classes_count_sum['sum'] / grouped_classes_count_sum ['count']\n",
    "class_survivors.name = \"perc_survivors\"\n",
    "pd.concat([grouped_classes_count_sum, class_survivors], axis=1)"
   ]
  },
  {
   "cell_type": "code",
   "execution_count": 82,
   "metadata": {
    "collapsed": false,
    "scrolled": true
   },
   "outputs": [
    {
     "data": {
      "text/plain": [
       "<matplotlib.text.Text at 0x7fe9fb346250>"
      ]
     },
     "execution_count": 82,
     "metadata": {},
     "output_type": "execute_result"
    },
    {
     "data": {
      "image/png": "[encoded data removed]",
      "text/plain": [
       "<matplotlib.figure.Figure at 0x7fe9fb3e3510>"
      ]
     },
     "metadata": {},
     "output_type": "display_data"
    }
   ],
   "source": [
    "y_pos = np.arange(len(class_survivors))\n",
    "plt.bar(y_pos, class_survivors, align='center', alpha=0.5)\n",
    "plt.xticks(y_pos, ('1st', '2nd', '3rd'))\n",
    "plt.ylabel('Survival rate')\n",
    "plt.xlabel('Classes')\n",
    "plt.title('Survival rate among the three Titanic classes')"
   ]
  },
  {
   "cell_type": "markdown",
   "metadata": {},
   "source": [
    "When we calcuate the survival rate relative to the number of passengers of each class, a different pattern emerges. Only 24% of the third-class passengers survived. The passengers in the first class were most likely to survive (63%), whereas second class passengers had a survival rate of about 50%."
   ]
  },
  {
   "cell_type": "code",
   "execution_count": 83,
   "metadata": {
    "collapsed": false
   },
   "outputs": [
    {
     "data": {
      "text/plain": [
       "0.38383838383838381"
      ]
     },
     "execution_count": 83,
     "metadata": {},
     "output_type": "execute_result"
    }
   ],
   "source": [
    "sum(titanic_df['Survived']) / float(len(titanic_df['Survived']))"
   ]
  },
  {
   "cell_type": "markdown",
   "metadata": {},
   "source": [
    "Overall about 38.38% of the passengers in the dataset survived. Sadly a very low number. Third class passengers were clearly at a disadvantage. They where the only group below the mean survival rate (38.8% vs. 24%). Let us plot the same relationship in a mosaic plot. Let us also add the feature **Sex** to see if there was a gender difference."
   ]
  },
  {
   "cell_type": "code",
   "execution_count": 87,
   "metadata": {
    "collapsed": false
   },
   "outputs": [],
   "source": [
    "titanic_df['Survived_string'] = titanic_df['Survived'].map({0: 'died', 1: 'survived'})\n",
    "titanic_df['Pclass_string'] = titanic_df['Pclass'].map({1: '1st class', 2: '2nd class', 3: '3rd class'})"
   ]
  },
  {
   "cell_type": "code",
   "execution_count": 88,
   "metadata": {
    "collapsed": false
   },
   "outputs": [
    {
     "data": {
      "text/plain": [
       "(<matplotlib.figure.Figure at 0x7fe9fb1bdcd0>,\n",
       " OrderedDict([(('3rd class', 'died', 'male'), (0.0, 0.0, 0.43903253067599879, 0.7551204065200181)), (('3rd class', 'died', 'female'), (0.44024230920497265, 0.0, 0.10536780736223976, 0.7551204065200181)), (('3rd class', 'survived', 'male'), (0.0, 0.7584426656562308, 0.21501525956132103, 0.2415573343437692)), (('3rd class', 'survived', 'female'), (0.21622503809029492, 0.7584426656562308, 0.32938507847691739, 0.2415573343437692)), (('1st class', 'died', 'male'), (0.55056061161671732, 0.0, 0.23051085596364515, 0.3691399040236249)), (('1st class', 'died', 'female'), (0.78160367157681532, 0.0, 0.0089809424401420153, 0.3691399040236249)), (('1st class', 'survived', 'male'), (0.55056061161671732, 0.37246216315983754, 0.079243609765958969, 0.6275378368401624)), (('1st class', 'survived', 'female'), (0.63033642537912915, 0.37246216315983754, 0.16024818863782817, 0.6275378368401624)), (('2nd class', 'died', 'male'), (0.7955351090664623, 0.0, 0.19139226195461112, 0.5254225046944966)), (('2nd class', 'died', 'female'), (0.98738072998101467, 0.0, 0.012619270018985348, 0.5254225046944966)), (('2nd class', 'survived', 'male'), (0.7955351090664623, 0.5287447638307091, 0.039864322339668273, 0.4712552361692907)), (('2nd class', 'survived', 'female'), (0.83585279036607185, 0.5287447638307091, 0.16414720963392818, 0.4712552361692907))]))"
      ]
     },
     "execution_count": 88,
     "metadata": {},
     "output_type": "execute_result"
    },
    {
     "data": {
      "image/png": "[encoded data removed]",
      "text/plain": [
       "<matplotlib.figure.Figure at 0x7fe9fb1bdcd0>"
      ]
     },
     "metadata": {},
     "output_type": "display_data"
    }
   ],
   "source": [
    "mosaic(titanic_df, ['Pclass_string', 'Survived_string', 'Sex'])"
   ]
  },
  {
   "cell_type": "markdown",
   "metadata": {},
   "source": [
    "The mosaic plot clearly shows that third class passengers had the lowest survival rate. Women tended to be better off than men. This pattern is most evident for the second class passengers. Women in the second class seemed to be very lucky.\n",
    "\n"
   ]
  },
  {
   "cell_type": "markdown",
   "metadata": {},
   "source": [
    "## Ideen"
   ]
  },
  {
   "cell_type": "markdown",
   "metadata": {},
   "source": [
    "* http://stackoverflow.com/questions/27225636/how-to-create-mosaic-plot-from-pandas-dataframe-with-statsmodels-library\n",
    "* https://www.kaggle.com/benhamner/titanic/exploratory-analysis-in-r/output"
   ]
  },
  {
   "cell_type": "code",
   "execution_count": null,
   "metadata": {
    "collapsed": false
   },
   "outputs": [],
   "source": []
  }
 ],
 "metadata": {
  "kernelspec": {
   "display_name": "Python 2",
   "language": "python",
   "name": "python2"
  },
  "language_info": {
   "codemirror_mode": {
    "name": "ipython",
    "version": 2
   },
   "file_extension": ".py",
   "mimetype": "text/x-python",
   "name": "python",
   "nbconvert_exporter": "python",
   "pygments_lexer": "ipython2",
   "version": "2.7.11"
  }
 },
 "nbformat": 4,
 "nbformat_minor": 0
}
